{
 "cells": [
  {
   "cell_type": "markdown",
   "metadata": {},
   "source": [
    "# Import libraries \n",
    "\n",
    "`nltk` is a natural language processing toolkit: http://www.nltk.org/\n",
    "In this example, we will use NLTK for part-of-speech tagging and for lemmatization.\n",
    "\n",
    "`re` is a library for regular expressions.\n",
    "\n",
    "`math`, `scipy`, and `numpy` have useful math, statistics, and linear algebra functions.\n"
   ]
  },
  {
   "cell_type": "code",
   "execution_count": 1,
   "metadata": {},
   "outputs": [],
   "source": [
    "import nltk\n",
    "import re\n",
    "import math\n",
    "import scipy\n",
    "import numpy as np"
   ]
  },
  {
   "cell_type": "markdown",
   "metadata": {},
   "source": [
    "# Data pre-processing\n",
    "\n",
    "1. Read in text.\n",
    "2. Extract sentences and tokens.\n",
    "3. Lowercase all tokens.\n",
    "4. Tag each token with its POS tag.\n",
    "5. Lemmatize each token.\n"
   ]
  },
  {
   "cell_type": "code",
   "execution_count": 2,
   "metadata": {},
   "outputs": [
    {
     "name": "stdout",
     "output_type": "stream",
     "text": [
      "All flyers were given a purpose and the crow was left without one. He went to visit a bear and the bear spent weeks teaching him about medicine. The crow was still mad without having a purpose. One day he heard a squirrel crying in a hollow oak tree. He went to go see and saw the squirrel was sad about something.  He directed the squirrel to the bear, who was good with medicine. The next the day crow flew around satisfied with knowing that he had helped someone. He heard bunny crying in their burrow. He asked asked why and they said that they could never they could never get any peace with the fox always prying around. Then the crow stated the bunny's strengths of big ears and strong legs. Then word came around of crow's purpose of helping others find their purpose.\n"
     ]
    }
   ],
   "source": [
    "# Read in our text file\n",
    "filename = 'data/crow_retelling.txt'\n",
    "with open(filename, 'r') as f:\n",
    "    text = f.read()\n",
    "print(text)"
   ]
  },
  {
   "cell_type": "code",
   "execution_count": 3,
   "metadata": {},
   "outputs": [
    {
     "name": "stdout",
     "output_type": "stream",
     "text": [
      "['All flyers were given a purpose and the crow was left without one', 'He went to visit a bear and the bear spent weeks teaching him about medicine', 'The crow was still mad without having a purpose', 'One day he heard a squirrel crying in a hollow oak tree', 'He went to go see and saw the squirrel was sad about something', ' He directed the squirrel to the bear, who was good with medicine', 'The next the day crow flew around satisfied with knowing that he had helped someone', 'He heard bunny crying in their burrow', 'He asked asked why and they said that they could never they could never get any peace with the fox always prying around', \"Then the crow stated the bunny's strengths of big ears and strong legs\", \"Then word came around of crow's purpose of helping others find their purpose.\"]\n"
     ]
    }
   ],
   "source": [
    "# Split the text into sentences\n",
    "sentences = text.split('. ')\n",
    "print(sentences)"
   ]
  },
  {
   "cell_type": "markdown",
   "metadata": {},
   "source": [
    "Now, we can tokenize our text (i.e., split into tokens) and lowercase. We use NLTK's word tokenizer. "
   ]
  },
  {
   "cell_type": "code",
   "execution_count": 4,
   "metadata": {},
   "outputs": [
    {
     "name": "stdout",
     "output_type": "stream",
     "text": [
      "['all', 'flyers', 'were', 'given', 'a', 'purpose', 'and', 'the', 'crow', 'was', 'left', 'without', 'one', '.', 'he', 'went', 'to', 'visit', 'a', 'bear', 'and', 'the', 'bear', 'spent', 'weeks', 'teaching', 'him', 'about', 'medicine', '.', 'the', 'crow', 'was', 'still', 'mad', 'without', 'having', 'a', 'purpose', '.', 'one', 'day', 'he', 'heard', 'a', 'squirrel', 'crying', 'in', 'a', 'hollow', 'oak', 'tree', '.', 'he', 'went', 'to', 'go', 'see', 'and', 'saw', 'the', 'squirrel', 'was', 'sad', 'about', 'something', '.', 'he', 'directed', 'the', 'squirrel', 'to', 'the', 'bear', ',', 'who', 'was', 'good', 'with', 'medicine', '.', 'the', 'next', 'the', 'day', 'crow', 'flew', 'around', 'satisfied', 'with', 'knowing', 'that', 'he', 'had', 'helped', 'someone', '.', 'he', 'heard', 'bunny', 'crying', 'in', 'their', 'burrow', '.', 'he', 'asked', 'asked', 'why', 'and', 'they', 'said', 'that', 'they', 'could', 'never', 'they', 'could', 'never', 'get', 'any', 'peace', 'with', 'the', 'fox', 'always', 'prying', 'around', '.', 'then', 'the', 'crow', 'stated', 'the', 'bunny', \"'s\", 'strengths', 'of', 'big', 'ears', 'and', 'strong', 'legs', '.', 'then', 'word', 'came', 'around', 'of', 'crow', \"'s\", 'purpose', 'of', 'helping', 'others', 'find', 'their', 'purpose', '.']\n"
     ]
    }
   ],
   "source": [
    "# Split our text into lowercased tokens\n",
    "tokens = []\n",
    "for token in nltk.word_tokenize(text):\n",
    "    tokens += [token.lower()]\n",
    "print(tokens)"
   ]
  },
  {
   "cell_type": "markdown",
   "metadata": {},
   "source": [
    "**POS tagging**: Assign parts of speech to each token, such as noun, verb, adjective, etc."
   ]
  },
  {
   "cell_type": "code",
   "execution_count": 5,
   "metadata": {},
   "outputs": [
    {
     "name": "stdout",
     "output_type": "stream",
     "text": [
      "First 15 (token, tag) pairs:\n",
      "[('all', 'DT'), ('flyers', 'NNS'), ('were', 'VBD'), ('given', 'VBN'), ('a', 'DT'), ('purpose', 'NN'), ('and', 'CC'), ('the', 'DT'), ('crow', 'NN'), ('was', 'VBD'), ('left', 'VBN'), ('without', 'IN'), ('one', 'CD'), ('.', '.'), ('he', 'PRP')]\n"
     ]
    }
   ],
   "source": [
    "# Tag our tokens with the Stanford POS tagger: https://stanfordnlp.github.io/CoreNLP/\n",
    "\n",
    "pos_tagger_model = \"libraries/stanford-postagger-2012-01-06/models/english-left3words-distsim.tagger\"\n",
    "pos_tagger_jar_file = \"libraries/stanford-postagger-2012-01-06/stanford-postagger.jar\"\n",
    "pos_tagger = nltk.tag.StanfordPOSTagger(pos_tagger_model, path_to_jar=pos_tagger_jar_file)\n",
    "\n",
    "pos_tagged_tokens = pos_tagger.tag(tokens)\n",
    "print(\"First 15 (token, tag) pairs:\")\n",
    "print(pos_tagged_tokens[:15])"
   ]
  },
  {
   "cell_type": "markdown",
   "metadata": {},
   "source": [
    "Now, we're going to filter out the punctuation tags. \n",
    "We can rely on the POS to determine whether or not a token is a punctuation. We remove any (word, tag) pair in which the tag it not made up of characters.\n",
    "\n",
    "**Lemmatization**: Normalizing a token by removing inflectional endings and returning the base or dictionary form of a word, which is known as the lemma.\n",
    "\n"
   ]
  },
  {
   "cell_type": "code",
   "execution_count": 6,
   "metadata": {},
   "outputs": [],
   "source": [
    "# Read in the WordNet lemmatizer\n",
    "lemmatizer = nltk.stem.wordnet.WordNetLemmatizer()\n",
    "\n",
    "# This is a helper function used to convert the POS tags from the Stanford parser to the WordNet format\n",
    "def pos_stanford2wordnet(treebank_tag):\n",
    "    '''Map the Stanford POS tags to WordNet tags.'''\n",
    "    if treebank_tag.startswith('J'):\n",
    "        return nltk.corpus.wordnet.ADJ\n",
    "    elif treebank_tag.startswith('V'):\n",
    "        return nltk.corpus.wordnet.VERB\n",
    "    elif treebank_tag.startswith('N'):\n",
    "        return nltk.corpus.wordnet.NOUN\n",
    "    elif treebank_tag.startswith('R'):\n",
    "        return nltk.corpus.wordnet.ADV\n",
    "    else:\n",
    "        # default\n",
    "        return nltk.corpus.wordnet.NOUN"
   ]
  },
  {
   "cell_type": "code",
   "execution_count": 7,
   "metadata": {},
   "outputs": [
    {
     "name": "stdout",
     "output_type": "stream",
     "text": [
      "pos_tokens:\n",
      "[('all', 'DT'), ('flyers', 'NNS'), ('were', 'VBD'), ('given', 'VBN'), ('a', 'DT'), ('purpose', 'NN'), ('and', 'CC'), ('the', 'DT'), ('crow', 'NN'), ('was', 'VBD'), ('left', 'VBN'), ('without', 'IN'), ('one', 'CD'), ('he', 'PRP'), ('went', 'VBD')]\n",
      "\n",
      "lemmatized_tokens:\n",
      "['all', 'flyer', 'be', 'give', 'a', 'purpose', 'and', 'the', 'crow', 'be', 'leave', 'without', 'one', 'he', 'go']\n"
     ]
    }
   ],
   "source": [
    "# Filter out any punctuation tags\n",
    "regex_pos_content = re.compile(r'^[a-zA-Z$]+$')\n",
    "pos_tokens = [] \n",
    "lemmatized_tokens = [] \n",
    "for token, tag in pos_tagged_tokens:\n",
    "    \n",
    "    if regex_pos_content.findall(tag):\n",
    "        pos_tokens += [(token, tag)]\n",
    "        lemmatized_tokens += [lemmatizer.lemmatize(token, pos_stanford2wordnet(tag))]\n",
    "\n",
    "print('pos_tokens:')\n",
    "print(pos_tokens[:15])\n",
    "print('\\nlemmatized_tokens:')\n",
    "print(lemmatized_tokens[:15])"
   ]
  },
  {
   "cell_type": "code",
   "execution_count": 8,
   "metadata": {},
   "outputs": [
    {
     "name": "stdout",
     "output_type": "stream",
     "text": [
      "What we've done so far:\n",
      "Sentence:  All flyers were given a purpose and the crow was left without one\n",
      "Lowercased tokens:  ['all', 'flyers', 'were', 'given', 'a', 'purpose', 'and', 'the', 'crow', 'was', 'left', 'without', 'one']\n",
      "POS tagged tokens:  [('all', 'DT'), ('flyers', 'NNS'), ('were', 'VBD'), ('given', 'VBN'), ('a', 'DT'), ('purpose', 'NN'), ('and', 'CC'), ('the', 'DT'), ('crow', 'NN'), ('was', 'VBD'), ('left', 'VBN'), ('without', 'IN'), ('one', 'CD')]\n",
      "Lemmatized tokens:  ['all', 'flyer', 'be', 'give', 'a', 'purpose', 'and', 'the', 'crow', 'be', 'leave', 'without', 'one']\n"
     ]
    }
   ],
   "source": [
    "print(\"What we've done so far:\")\n",
    "print('Sentence: ', sentences[0])\n",
    "print('Lowercased tokens: ', tokens[:13])\n",
    "print('POS tagged tokens: ', pos_tokens[:13])\n",
    "print('Lemmatized tokens: ', lemmatized_tokens[:13])"
   ]
  },
  {
   "cell_type": "markdown",
   "metadata": {},
   "source": [
    "And we're done with pre-processing!\n",
    "\n",
    "Now, we can go ahead and extract linguistic features!\n",
    "\n",
    "# Linguistic feature extraction\n",
    "\n"
   ]
  },
  {
   "cell_type": "code",
   "execution_count": 49,
   "metadata": {},
   "outputs": [],
   "source": [
    "def print_linguistic_features(feat_dict):\n",
    "    print(\"Linguistic features\")\n",
    "    for feature in feat_dict:\n",
    "        print(feature, ': ', feat_dict[feature])\n",
    "linguistic_features = {}"
   ]
  },
  {
   "cell_type": "markdown",
   "metadata": {},
   "source": [
    "Let's start by retrieving the total number of sentences and of tokens, and the average length of each token"
   ]
  },
  {
   "cell_type": "code",
   "execution_count": 50,
   "metadata": {},
   "outputs": [
    {
     "name": "stdout",
     "output_type": "stream",
     "text": [
      "# of sentences:  11\n"
     ]
    }
   ],
   "source": [
    "num_sentences = len(sentences)\n",
    "print(\"# of sentences: \", num_sentences)\n",
    "linguistic_features['num_sentences'] = num_sentences"
   ]
  },
  {
   "cell_type": "code",
   "execution_count": 51,
   "metadata": {},
   "outputs": [
    {
     "name": "stdout",
     "output_type": "stream",
     "text": [
      "# of tokens:  147\n"
     ]
    }
   ],
   "source": [
    "num_tokens = len(lemmatized_tokens) # Recall: lemmatized_tokens has all punctuation removed\n",
    "print(\"# of tokens: \", num_tokens)\n",
    "linguistic_features['num_tokens'] = num_tokens"
   ]
  },
  {
   "cell_type": "code",
   "execution_count": 52,
   "metadata": {},
   "outputs": [
    {
     "name": "stdout",
     "output_type": "stream",
     "text": [
      "Average word length:  4.210884353741497\n"
     ]
    }
   ],
   "source": [
    "# Word length\n",
    "word_length_sum = 0\n",
    "for pos_token in pos_tokens:\n",
    "    token = pos_token[0]\n",
    "    word_length_sum += len(token)\n",
    "average_word_length = word_length_sum / num_tokens\n",
    "print('Average word length: ', average_word_length )\n",
    "linguistic_features['average_word_length'] = average_word_length\n"
   ]
  },
  {
   "cell_type": "markdown",
   "metadata": {},
   "source": [
    "## Vocabulary richness\n",
    "\n",
    "We'll look at a few metrics for measuring vocabulary richness.\n",
    "\n",
    "- The **type-token-ratio (TTR)** computes the ratio of the total number of types (i.e., unique words) over the total number of tokens (i.e., all words). The **moving average type-token-ratio (MATTR)** computes the TTR over a window of size k, and averages over the total number of windows\n",
    "\n",
    "- The **Brunet index** computes vocabulary richness according to the following equation: \\begin{equation}N^{(U^{-0.165})}\\end{equation} where *N* is total number of words and *U* is the total number of unique words.\n",
    "\n",
    "- The **Honoré statistic** computes vocabulary richness according to the following equation:\n",
    "\\begin{equation}\\frac{100 \\log N}{1 - \\frac{N_1}{U}}\\end{equation} \n",
    "where *N* is the total number of words, *U* is the total number of unique words, and *N1* is the number of *hapax legomenon* (i.e., words only used once)\n",
    "\n",
    "\n",
    "\n",
    "Let's start with computing TTR and MATTR. We first compute the total number of **types** and the total number of **tokens**"
   ]
  },
  {
   "cell_type": "code",
   "execution_count": 55,
   "metadata": {},
   "outputs": [
    {
     "name": "stdout",
     "output_type": "stream",
     "text": [
      "Total # word types:  84\n",
      "Total # work tokens:  147\n"
     ]
    }
   ],
   "source": [
    "num_word_types = len(set(pos_tokens)) \n",
    "print('Total # word types: ', num_word_types)\n",
    "print('Total # work tokens: ', num_tokens) # We already computed num_tokens before"
   ]
  },
  {
   "cell_type": "code",
   "execution_count": 56,
   "metadata": {},
   "outputs": [
    {
     "name": "stdout",
     "output_type": "stream",
     "text": [
      "TTR:  0.5714285714285714\n"
     ]
    }
   ],
   "source": [
    "ttr = num_word_types / num_tokens\n",
    "linguistic_features['TTR'] = num_word_types / num_tokens\n",
    "print('TTR: ', ttr)"
   ]
  },
  {
   "cell_type": "markdown",
   "metadata": {},
   "source": [
    "Now that we know how to compute TTR, let's look at how we can computer MATTR. \n",
    "\n",
    "In this example, we will compute MATTR with a window size of 20. We start by initializing a few variables. \n",
    "We will compute the TTR for every window of size 20. We need to keep track of the total sum and of the total number of windows."
   ]
  },
  {
   "cell_type": "code",
   "execution_count": 57,
   "metadata": {},
   "outputs": [],
   "source": [
    "window_size = 20\n",
    "\n",
    "MATTR_sum = 0\n",
    "num_windows = 0"
   ]
  },
  {
   "cell_type": "code",
   "execution_count": 58,
   "metadata": {},
   "outputs": [
    {
     "name": "stdout",
     "output_type": "stream",
     "text": [
      "MATTR with window size 20: 0.859449\n"
     ]
    }
   ],
   "source": [
    "start = 0\n",
    "end = window_size\n",
    "while end < len(pos_tokens):\n",
    "    num_word_types_window = len(set(pos_tokens[start:end]))\n",
    "    num_tokens_window = window_size\n",
    "\n",
    "    MATTR_sum += (num_word_types_window / num_tokens_window)\n",
    "    # Shift window one word at a time\n",
    "    start += 1\n",
    "    end += 1\n",
    "    num_windows += 1\n",
    "\n",
    "mattr = MATTR_sum / num_windows\n",
    "print('MATTR with window size %d: %f' %  (window_size, mattr))\n",
    "linguistic_features['MATTR_%d' % window_size] = mattr"
   ]
  },
  {
   "cell_type": "markdown",
   "metadata": {},
   "source": [
    "Now, let's compute **Brunet's Index**."
   ]
  },
  {
   "cell_type": "code",
   "execution_count": 59,
   "metadata": {},
   "outputs": [
    {
     "name": "stdout",
     "output_type": "stream",
     "text": [
      "Brunet:  11.048856489696162\n"
     ]
    }
   ],
   "source": [
    "# Brunet\n",
    "brunet = num_tokens ** ( num_word_types**(-0.165))\n",
    "print(\"Brunet: \", brunet)\n",
    "linguistic_features['brunet'] = brunet"
   ]
  },
  {
   "cell_type": "markdown",
   "metadata": {},
   "source": [
    "Here, we compute the **Honoré statistic**. To do so, we first need to compute the number of words that occur once. We will use the `FreqDist` function in `nltk`, which computes the frequency of each word."
   ]
  },
  {
   "cell_type": "code",
   "execution_count": 60,
   "metadata": {},
   "outputs": [
    {
     "name": "stdout",
     "output_type": "stream",
     "text": [
      "POS token:  ('all', 'DT') , frequency:  1\n",
      "POS token:  ('flyers', 'NNS') , frequency:  1\n",
      "POS token:  ('were', 'VBD') , frequency:  1\n",
      "POS token:  ('given', 'VBN') , frequency:  1\n",
      "POS token:  ('a', 'DT') , frequency:  5\n"
     ]
    }
   ],
   "source": [
    "fd_tokens = nltk.probability.FreqDist(pos_tokens)\n",
    "for fd_token, pos_token in zip(list(fd_tokens.values())[:5], pos_tokens[:5]): # Show frequency of first 5 words\n",
    "    print(\"POS token: \", pos_token, \", frequency: \", fd_token)"
   ]
  },
  {
   "cell_type": "markdown",
   "metadata": {},
   "source": [
    "Now, let's count the number of *hapax legomenon* (i.e., words appearing once)"
   ]
  },
  {
   "cell_type": "code",
   "execution_count": 61,
   "metadata": {},
   "outputs": [
    {
     "name": "stdout",
     "output_type": "stream",
     "text": [
      "Words appearing once:  54\n"
     ]
    }
   ],
   "source": [
    "words_appearing_once = 0\n",
    "for num in fd_tokens.values():\n",
    "    if num == 1:\n",
    "        words_appearing_once += 1\n",
    "print(\"Words appearing once: \", words_appearing_once)\n",
    " "
   ]
  },
  {
   "cell_type": "code",
   "execution_count": 62,
   "metadata": {},
   "outputs": [
    {
     "name": "stdout",
     "output_type": "stream",
     "text": [
      "Honoré:  1397.3211242980462\n"
     ]
    }
   ],
   "source": [
    "honore = 100.0 * math.log(num_tokens)/(1.0 - 1.0 * words_appearing_once / num_word_types)\n",
    "print('Honoré: ', honore)\n",
    "linguistic_features['honore'] = honore"
   ]
  },
  {
   "cell_type": "markdown",
   "metadata": {},
   "source": [
    "Let's look at all the features we've extracted so far."
   ]
  },
  {
   "cell_type": "code",
   "execution_count": 63,
   "metadata": {},
   "outputs": [
    {
     "name": "stdout",
     "output_type": "stream",
     "text": [
      "Linguistic features\n",
      "num_tokens :  147\n",
      "average_word_length :  4.210884353741497\n",
      "TTR :  0.5714285714285714\n",
      "MATTR_20 :  0.8594488188976377\n",
      "brunet :  11.048856489696162\n",
      "honore :  1397.3211242980462\n"
     ]
    }
   ],
   "source": [
    "print_linguistic_features(linguistic_features)"
   ]
  },
  {
   "cell_type": "markdown",
   "metadata": {},
   "source": [
    "## Cosine similarity\n",
    "\n",
    "Given two vectors *A*, *B*, we can measure the cosine similarity:\n",
    "\\begin{equation}\n",
    "cos(A,B) = \\frac{A \\dot B}{||A|| \\ ||B||}\n",
    "\\end{equation}\n",
    "\n",
    "In order to do this, we first need to convert our words into word vectors. We will start by defining our **vocabulary**, i.e. all unique *non-frequent* words that occur in our transcript.\n"
   ]
  },
  {
   "cell_type": "code",
   "execution_count": 64,
   "metadata": {},
   "outputs": [
    {
     "name": "stdout",
     "output_type": "stream",
     "text": [
      "Original text:\n",
      "all flyers were given a purpose and the crow was left without one. he went to visit a bear and the bear spent weeks teaching him about medicine. the crow was still mad without having a purpose. one day he heard a squirrel crying in a hollow oak tree. he went to go see and saw the squirrel was sad about something.  he directed the squirrel to the bear, who was good with medicine. the next the day crow flew around satisfied with knowing that he had helped someone. he heard bunny crying in their burrow. he asked asked why and they said that they could never they could never get any peace with the fox always prying around. then the crow stated the bunny's strengths of big ears and strong legs. then word came around of crow's purpose of helping others find their purpose.\n",
      "\n",
      "Vocabulary:\n",
      "['all', 'burrow', 'without', 'bear', 'cry', 'visit', 'say', 'fox', 'ear', 'could', 'squirrel', 'week', 'prying', 'never', 'purpose', 'then', 'peace', 'teach', 'medicine', \"'s\", 'get', 'oak', 'someone', 'why', 'strong', 'strength', 'one', 'state', 'direct', 'crow', 'go', 'see', 'about', 'around', 'their', 'bunny', 'flyer', 'day', 'have', 'who', 'something', 'help', 'ask', 'always', 'others', 'come', 'any', 'give', 'hollow', 'still', 'word', 'fly', 'that', 'know', 'with', 'leg', 'hear', 'mad', 'next', 'they', 'saw', 'leave', 'find', 'tree', 'he', 'him', 'big', 'sad', 'satisfy', 'spend', 'be', 'good']\n"
     ]
    }
   ],
   "source": [
    "# Define list of words to remove (we ignore words that occur very frequently)\n",
    "words_to_remove = ['the', 'and', 'is', 'a', 'to', 'i', 'on', 'in', 'of', 'it']\n",
    "\n",
    "# Get a list of unique words\n",
    "vocab_words = list(set(lemmatized_tokens))\n",
    "\n",
    "# Remove frequent words\n",
    "for s in words_to_remove:\n",
    "    if s in vocab_words:\n",
    "        vocab_words.remove(s)\n",
    "   \n",
    "print(\"Original text:\")\n",
    "print(text.lower())\n",
    "print(\"\\nVocabulary:\")\n",
    "print(vocab_words)"
   ]
  },
  {
   "cell_type": "markdown",
   "metadata": {},
   "source": [
    "Now that we have our vocabulary, let's convert each sentence in our transcript into a vector!\n",
    "\n",
    "For every sentence, we will create a vector which has the same size as our vocabulary. At every position, we will assign 1 if the corresponding word occurs, and 0 if it does not.\n",
    "\n",
    "*Example*:\n",
    "\n",
    "**V** =  [\"cat\", \"fat\", \"red\", \"blue\"]\n",
    "\n",
    "- \"The fat cat\" = [1, 1, 0, 0]\n",
    "- \"The red fat cat\" = [1, 1, 1, 0]\n",
    "- \"The blue fat cat\" = [1, 1, 0, 1]\n"
   ]
  },
  {
   "cell_type": "code",
   "execution_count": 65,
   "metadata": {},
   "outputs": [
    {
     "name": "stdout",
     "output_type": "stream",
     "text": [
      "Vocabulary:  ['all', 'burrow', 'without', 'bear', 'cry', 'visit', 'say', 'fox', 'ear', 'could', 'squirrel', 'week', 'prying', 'never', 'purpose', 'then', 'peace', 'teach', 'medicine', \"'s\", 'get', 'oak', 'someone', 'why', 'strong', 'strength', 'one', 'state', 'direct', 'crow', 'go', 'see', 'about', 'around', 'their', 'bunny', 'flyer', 'day', 'have', 'who', 'something', 'help', 'ask', 'always', 'others', 'come', 'any', 'give', 'hollow', 'still', 'word', 'fly', 'that', 'know', 'with', 'leg', 'hear', 'mad', 'next', 'they', 'saw', 'leave', 'find', 'tree', 'he', 'him', 'big', 'sad', 'satisfy', 'spend', 'be', 'good']\n",
      "\n",
      "sentence1:  all flyers were given a purpose and the crow was left without one\n",
      "Vector of sentence1:  [1, 0, 1, 0, 0, 0, 0, 0, 0, 0, 0, 0, 0, 0, 1, 0, 0, 0, 0, 0, 0, 0, 0, 0, 0, 0, 1, 0, 0, 1, 0, 0, 0, 0, 0, 0, 1, 0, 0, 0, 0, 0, 0, 0, 0, 0, 0, 1, 0, 0, 0, 1, 0, 0, 1, 0, 0, 0, 0, 0, 0, 0, 0, 0, 1, 0, 0, 0, 0, 0, 0, 0]\n"
     ]
    }
   ],
   "source": [
    "word_vectors = []\n",
    "for i, sentence in enumerate(sentences):\n",
    "    word_vectors.append(len(vocab_words)*[0]) # init\n",
    "    for j in range(len(vocab_words)):\n",
    "        if vocab_words[j] in sentence.lower():\n",
    "            word_vectors[i][j] += 1\n",
    "            \n",
    "# Vector is 1 if the vocabulary word is present in the utterance, 0 otherwise\n",
    "print(\"Vocabulary: \", vocab_words)\n",
    "print(\"\\nsentence1: \", sentences[0].lower())\n",
    "print(\"Vector of sentence1: \", word_vectors[0])\n"
   ]
  },
  {
   "cell_type": "markdown",
   "metadata": {},
   "source": [
    "Now that we have our word vectors, we can compute the cosine distance between each vector pair."
   ]
  },
  {
   "cell_type": "code",
   "execution_count": 66,
   "metadata": {},
   "outputs": [
    {
     "name": "stdout",
     "output_type": "stream",
     "text": [
      "Average cosine distance:  0.7932121704196343\n"
     ]
    }
   ],
   "source": [
    "# Calculate cosine distance between each pair of sentences in this transcribe\n",
    "pairs_compared = 0\n",
    "cosine_distance_sum = 0\n",
    "for i in range(len(sentences)):\n",
    "    for j in range(i):\n",
    "        # We only compute distance if norms are non-zero\n",
    "        norm_i, norm_j = np.linalg.norm(word_vectors[i]), np.linalg.norm(word_vectors[j])\n",
    "        if norm_i > 0 and norm_j > 0:\n",
    "            pairs_compared += 1\n",
    "            cosine_distance_sum += scipy.spatial.distance.cosine(word_vectors[i], word_vectors[j])\n",
    "\n",
    "average_cosine_distance = cosine_distance_sum / pairs_compared\n",
    "print(\"Average cosine distance: \", average_cosine_distance)\n",
    "linguistic_features['average_cosine_distance'] = cosine_distance_sum / pairs_compared"
   ]
  },
  {
   "cell_type": "markdown",
   "metadata": {},
   "source": [
    "All of that just for one feature! ;)"
   ]
  },
  {
   "cell_type": "code",
   "execution_count": 67,
   "metadata": {},
   "outputs": [
    {
     "name": "stdout",
     "output_type": "stream",
     "text": [
      "Linguistic features\n",
      "num_tokens :  147\n",
      "average_word_length :  4.210884353741497\n",
      "TTR :  0.5714285714285714\n",
      "MATTR_20 :  0.8594488188976377\n",
      "brunet :  11.048856489696162\n",
      "honore :  1397.3211242980462\n",
      "average_cosine_distance :  0.7932121704196343\n"
     ]
    }
   ],
   "source": [
    "print_linguistic_features(linguistic_features)"
   ]
  },
  {
   "cell_type": "markdown",
   "metadata": {},
   "source": [
    "## Valence\n",
    "\n",
    "In this example, we will compute the mean valence of the transcript. We rely on Warriner norms of valence, which provide values of valence for ~13,000 words.\n",
    "- Warriner norms are also used to compute arousal and dominance.\n",
    "- We use the same approach to compute imageability, frequency, age-of-acquisition, subjectivity (except we use norms from other sources).\n",
    "\n",
    "Let's start off by reading in the Warriner norms."
   ]
  },
  {
   "cell_type": "code",
   "execution_count": 70,
   "metadata": {},
   "outputs": [
    {
     "name": "stdout",
     "output_type": "stream",
     "text": [
      "Warriner norms: word: [valence (mean), valence (sd), arousal (mean), arousal (sd), dominance (mean), dominance (sd)]\n",
      "aardvark :  ['6.26', '2.21', '19', '2.41', '1.4', '22', '4.27', '1.75', '15']\n",
      "abalone :  ['5.3', '1.59', '20', '2.65', '1.9', '20', '4.95', '1.79', '22']\n",
      "abandon :  ['2.84', '1.54', '19', '3.73', '2.43', '22', '3.32', '2.5', '22']\n",
      "abandonment :  ['2.63', '1.74', '19', '4.95', '2.64', '21', '2.64', '1.81', '28']\n",
      "abbey :  ['5.85', '1.69', '20', '2.2', '1.7', '20', '5', '2.02', '25']\n"
     ]
    }
   ],
   "source": [
    "# Helper function for reading in dictionary of Warriner norms\n",
    "def get_norms(path_to_norms):\n",
    "    \"\"\"Parameters:\n",
    "    path_to_norms : optional, string. Full path, including filename, of the Warringer norms.\n",
    "\n",
    "    Return dictionary of Warriner norms, order: [warr.V.Mean.Sum,warr.V.SD.Sum,warr.V.Rat.Sum,warr.A.Mean.Sum,warr.A.SD.Sum,warr.A.Rat.Sum,warr.D.Mean.Sum,warr.D.SD.Sum,warr.D.Rat.Sum]\"\"\"\n",
    "\n",
    "    source_norms = path_to_norms\n",
    "    with open(source_norms, \"r\") as fin:\n",
    "        f = fin.readlines()\n",
    "        f = f[1:] # skip header\n",
    "\n",
    "        warr = {}\n",
    "        for line in f:\n",
    "            l = line.strip().split(',')\n",
    "            warr[l[1]] = l[2:11]\n",
    "\n",
    "        return warr\n",
    "\n",
    "warriner_norms = get_norms('libraries/Ratings_Warriner_et_al.csv')\n",
    "print(\"Warriner norms: word: [valence (mean), valence (sd), arousal (mean), arousal (sd), dominance (mean), dominance (sd)]\")\n",
    "for word in list(warriner_norms.keys())[:5]:\n",
    "    print(word, ': ', warriner_norms[word])"
   ]
  },
  {
   "cell_type": "code",
   "execution_count": 72,
   "metadata": {},
   "outputs": [
    {
     "name": "stdout",
     "output_type": "stream",
     "text": [
      "Average Warriner valence:  5.878783783783784\n"
     ]
    }
   ],
   "source": [
    "# Let's get the mean valence of our transcript\n",
    "warriner_valence_sum = 0\n",
    "warriner_valence_words = 0\n",
    "for word in lemmatized_tokens:\n",
    "    if word in warriner_norms:\n",
    "        warriner_valence_sum += float(warriner_norms[word][0])\n",
    "        warriner_valence_words += 1\n",
    "\n",
    "average_warriner_valence = warriner_valence_sum / warriner_valence_words\n",
    "print(\"Average Warriner valence: \", average_warriner_valence)\n",
    "linguistic_features['average_warriner_valence'] = average_warriner_valence\n"
   ]
  },
  {
   "cell_type": "markdown",
   "metadata": {},
   "source": [
    "## Phrase type length\n",
    "\n",
    "In this example, we will look at the average length of noun phrases.\n",
    "\n",
    "In the feature extraction pipeline, we extract parse trees using the Stanford parser. For this demo, let's assume we already have the Stanford parser output in `data/crow_retelling.txt.parse` :)"
   ]
  },
  {
   "cell_type": "code",
   "execution_count": 76,
   "metadata": {},
   "outputs": [
    {
     "name": "stdout",
     "output_type": "stream",
     "text": [
      "(ROOT (S (S (NP (DT All) (NNS flyers)) (VP (VBD were) (VP (VBN given) (NP (DT a) (NN purpose))))) (CC and) (S (NP (DT the) (NN crow)) (VP (VBD was) (VP (VBN left) (PP (IN without) (NP (CD one)))))) (. .)))\n",
      "\n"
     ]
    },
    {
     "data": {
      "image/png": "[encoded data removed]",
      "text/plain": [
       "ParentedTree('ROOT', [ParentedTree('S', [ParentedTree('S', [ParentedTree('NP', [ParentedTree('DT', ['All']), ParentedTree('NNS', ['flyers'])]), ParentedTree('VP', [ParentedTree('VBD', ['were']), ParentedTree('VP', [ParentedTree('VBN', ['given']), ParentedTree('NP', [ParentedTree('DT', ['a']), ParentedTree('NN', ['purpose'])])])])]), ParentedTree('CC', ['and']), ParentedTree('S', [ParentedTree('NP', [ParentedTree('DT', ['the']), ParentedTree('NN', ['crow'])]), ParentedTree('VP', [ParentedTree('VBD', ['was']), ParentedTree('VP', [ParentedTree('VBN', ['left']), ParentedTree('PP', [ParentedTree('IN', ['without']), ParentedTree('NP', [ParentedTree('CD', ['one'])])])])])]), ParentedTree('.', ['.'])])])"
      ]
     },
     "execution_count": 76,
     "metadata": {},
     "output_type": "execute_result"
    }
   ],
   "source": [
    "# Load parse tree output\n",
    "with open('data/crow_retelling.txt.parse', 'r') as fin:\n",
    "    treelist = fin.readlines()\n",
    "\n",
    "print(treelist[0])\n",
    "nltk.tree.ParentedTree.fromstring(treelist[0])"
   ]
  },
  {
   "cell_type": "markdown",
   "metadata": {},
   "source": [
    "Let's go through every node in our tree.\n",
    "\n",
    "We compute the number of leaves in any subtree whose root is NP. I print an example subtree and the length of that subtree."
   ]
  },
  {
   "cell_type": "code",
   "execution_count": 79,
   "metadata": {},
   "outputs": [
    {
     "name": "stdout",
     "output_type": "stream",
     "text": [
      "Subtree\n",
      "(NP (DT All) (NNS flyers))\n",
      "Length of subtree:  2\n",
      "\n",
      "Average length of NP:  2.909090909090909\n"
     ]
    }
   ],
   "source": [
    "length_np_sum = 0\n",
    "np_sum = 0\n",
    "print_first = True\n",
    "for tree in treelist:\n",
    "    t = nltk.tree.Tree.fromstring(tree)\n",
    "    for st in t.subtrees():\n",
    "        if str(st).startswith(\"(NP\"):\n",
    "            if print_first:\n",
    "                print(\"Subtree\")\n",
    "                print(st)\n",
    "                print(\"Length of subtree: \", len(st.leaves()))\n",
    "                print_first = False\n",
    "            length_np_sum += len(st.leaves())\n",
    "            np_sum += 1\n",
    "\n",
    "average_length_np = length_np_sum / np_sum\n",
    "print(\"\")\n",
    "print(\"Average length of NP: \", average_length_np)\n",
    "linguistic_features['average_length_np'] = average_length_np\n"
   ]
  },
  {
   "cell_type": "markdown",
   "metadata": {},
   "source": [
    "Here are all the features we've extracted!"
   ]
  },
  {
   "cell_type": "code",
   "execution_count": 80,
   "metadata": {},
   "outputs": [
    {
     "name": "stdout",
     "output_type": "stream",
     "text": [
      "Linguistic features\n",
      "num_tokens :  147\n",
      "average_word_length :  4.210884353741497\n",
      "TTR :  0.5714285714285714\n",
      "MATTR_20 :  0.8594488188976377\n",
      "brunet :  11.048856489696162\n",
      "honore :  1397.3211242980462\n",
      "average_cosine_distance :  0.7932121704196343\n",
      "average_warriner_valence :  5.878783783783784\n",
      "average_length_np :  2.909090909090909\n"
     ]
    }
   ],
   "source": [
    "print_linguistic_features(linguistic_features)"
   ]
  }
 ],
 "metadata": {
  "kernelspec": {
   "display_name": "Python 3",
   "language": "python",
   "name": "python3"
  },
  "language_info": {
   "codemirror_mode": {
    "name": "ipython",
    "version": 3
   },
   "file_extension": ".py",
   "mimetype": "text/x-python",
   "name": "python",
   "nbconvert_exporter": "python",
   "pygments_lexer": "ipython3",
   "version": "3.6.2"
  }
 },
 "nbformat": 4,
 "nbformat_minor": 2
}
